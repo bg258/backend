{
 "cells": [
  {
   "cell_type": "markdown",
   "metadata": {},
   "source": [
    "# **SQL Tutorial** 🗂️\n",
    "SQL is a standard language for storing, manipulating and retrieving data in databases.\n",
    "\n",
    "Our SQL tutorial will teach you how to use SQL in: MySQL, SQL Server, MS Access, Oracle, Sybase, Informix, Postgres, and other database systems."
   ]
  },
  {
   "cell_type": "markdown",
   "metadata": {},
   "source": [
    "# **1. SQL INTRO**\n",
    "SQL is a standard language for accessing and manipulating databases. \n",
    "\n",
    "### **What is SQL?**\n",
    "* SQL stands for **Structured Query Language**\n",
    "* SQL lets you access and manipulate databases.\n",
    "* SQL became a standard of the American National Standards Institute (ANSI) in 1986, and of the International Organization for Standardization (ISO) in 1987. \n",
    "\n",
    "### **What can SQL do?**\n",
    "* SQL can execute queries against a database\n",
    "* SQL can retrieve data from a database\n",
    "* SQL can insert records in a database\n",
    "* SQL can update records in a database\n",
    "* SQL can delete records from a database\n",
    "* SQL can create new databases\n",
    "* SQL can create new tables in a database\n",
    "* SQL can create stored procedures in a database\n",
    "* SQL can create views in a database\n",
    "* SQL can set permissions on tables, procedures, and view\n",
    "\n",
    "### **SQL is a Standard - BUT...**\n",
    "Although SQL is an ANSI/ISO standard, there are different versions of the SQL language.\n",
    "\n",
    "However, to be compliant with the ANSI standard, they all support at least the major commands (such as SELECT, UPDATE, DELETE, INSERT, WHERE) in a similar manner.\n",
    "\n",
    "### **Using SQL in Your Web Site**\n",
    "To build a web site that shows data from a database, you will need:\n",
    "\n",
    "* An RDBMS database program (i.e. MS Access, SQL Server, MySQL)\n",
    "* To use a server-side scripting language, like PHP or ASP\n",
    "* To use SQL to get the data you want\n",
    "* To use HTML / CSS to style the page\n",
    "\n",
    "### **RDBMS**\n",
    "RDBMS stands for Relational Database Management System.\n",
    "\n",
    "RDBMS is the basis for SQL, and for all modern database systems such as MS SQL Server, IBM DB2, Oracle, MySQL, and Microsoft Access.\n",
    "\n",
    "The data in RDBMS is stored in database objects called tables. A table is a collection of related data entries and it consists of columns and rows.\n",
    "\n",
    "Look at the \"Customers\" table:"
   ]
  },
  {
   "cell_type": "code",
   "execution_count": null,
   "metadata": {
    "vscode": {
     "languageId": "sql"
    }
   },
   "outputs": [],
   "source": [
    "SELECT * FROM Customers;"
   ]
  },
  {
   "cell_type": "markdown",
   "metadata": {},
   "source": [
    "Every table is broken up into smaller entities called fields. The fields in the Customers table consist of CustomerID, CustomerName, ContactName, Address, City, PostalCode and Country. A field is a column in a table that is designed to maintain specific information about every record in the table.\n",
    "\n",
    "A record, also called a row, is each individual entry that exists in a table. For example, there are 91 records in the above Customers table. A record is a horizontal entity in a table.\n",
    "\n",
    "A column is a vertical entity in a table that contains all information associated with a specific field in a table."
   ]
  }
 ],
 "metadata": {
  "language_info": {
   "name": "python"
  }
 },
 "nbformat": 4,
 "nbformat_minor": 2
}
