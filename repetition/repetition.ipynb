{
 "cells": [
  {
   "cell_type": "markdown",
   "metadata": {},
   "source": [
    "# Python repetition\n"
   ]
  },
  {
   "cell_type": "code",
   "execution_count": null,
   "metadata": {},
   "outputs": [],
   "source": [
    "# function to return key for any value\n",
    " \n",
    "def get_key(val):\n",
    "   \n",
    "    for key, value in my_dict.items():\n",
    "        if val == value:\n",
    "            return key\n",
    " \n",
    "    return \"key doesn't exist\"\n",
    " \n",
    " \n",
    "# Driver Code\n",
    "my_dict = {\"Java\": 100, \"Python\": 112, \"C\": 11}\n",
    " \n",
    "print(get_key(100))\n",
    "print(get_key(11))"
   ]
  }
 ],
 "metadata": {
  "language_info": {
   "name": "python"
  }
 },
 "nbformat": 4,
 "nbformat_minor": 2
}
