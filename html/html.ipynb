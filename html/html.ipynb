{
 "cells": [
  {
   "cell_type": "markdown",
   "metadata": {
    "vscode": {
     "languageId": "plaintext"
    }
   },
   "source": [
    "# **1. HTML INTRODUCTION** 💻\n",
    "HTML is the standard markup language for creating web sides. \n",
    "\n",
    "### **What is HTML?**\n",
    "* HTML stands for Hyper Text Markup Language\n",
    "* HTML is the standard markup language for creating Web pages\n",
    "* HTML describes the structure of a Web page\n",
    "* HTML consists of a series of elements\n",
    "* HTML elements tell the browser how to display the content\n",
    "* HTML elements label pieces of content such as \"this is a heading\", \"this is a paragraph\", \"this is a link\", etc.\n",
    "\n",
    "### **Example explained**\n",
    "* The **<!DOCTYPE html>** declaration defines that this document is an HTML5 document\n",
    "* The **<html>** element is the root element of an HTML page\n",
    "* The **<head>** element contains meta information about the HTML page\n",
    "* The **<title>** element specifies a title for the HTML page (which is shown in the browser's title bar or in the page's tab)\n",
    "* The **<body>** element defines the document's body, and is a container for all the visible contents, such as headings, paragraphs, images, hyperlinks, tables, lists, etc.\n",
    "* The **<h1>** element defines a large heading\n",
    "* The **<p>** element defines a paragraph\n",
    "\n",
    "### **What is an HTML Element?**\n",
    "An HTML element is defined by a start tag, some content, and an end tag:\n",
    "\n",
    "### **Web Browsers**\n",
    "The purpose of a web browser (Chrome, Edge, Firefox, Safari) is to read HTML documents and display them correctly.\n",
    "\n",
    "A browser does not display the HTML tags, but uses them to determine how to display the document:"
   ]
  },
  {
   "cell_type": "markdown",
   "metadata": {},
   "source": [
    "# **2.HTML Basic Examples**\n",
    "In this chapter we will show some basic HTML examples. \n",
    "\n",
    "### **HTML Documents**\n",
    "All HTML documents must start with a document type declaration: <!DOCTYPE html>.<br>\n",
    "The HTML document itself begins with <html> and ends with </html>.<br>\n",
    "The visible part of the HTML document is between <body> and </body><br>\n",
    "\n",
    "### **The <!DOCTYPE> Declaration**\n",
    "The <!DOCTYPE> declaration represents the document type, and helps browsers to display web pages correctly.<br>\n",
    "It must only appear once, at the top of the page (before any HTML tags).<br>\n",
    "The <!DOCTYPE> declaration is not case sensitive.<br>\n",
    "The <!DOCTYPE> declaration for HTML5 is:<br>\n",
    "\n",
    "```html\n",
    "<!DOCTYPE html>\n",
    "```\n",
    "\n",
    "### **HTML HEADINGS**\n",
    "HTML headings are defined with the **h1** to **h6** tags.<br>\n",
    "* **h1** defines the most important heading. \n",
    "* **h6** defines the least important heading: \n",
    "\n",
    "```html \n",
    "<h1>This is heading 1 </h1>\n",
    "<h2>This is heading 2 </h2>\n",
    "<h3>This is heading 3 </h3>\n",
    "```\n",
    "\n",
    "### **HTML Paragraphs**\n",
    "HTML paragraphs are defined with the **p** tag:\n",
    "\n",
    "```hmtl\n",
    "<p> This is a paragraph </p>\n",
    "<p> This is another paragraph </p>\n",
    "```\n",
    "\n",
    "\n",
    "\n",
    "\n",
    "\n"
   ]
  }
 ],
 "metadata": {
  "language_info": {
   "name": "python"
  }
 },
 "nbformat": 4,
 "nbformat_minor": 2
}
